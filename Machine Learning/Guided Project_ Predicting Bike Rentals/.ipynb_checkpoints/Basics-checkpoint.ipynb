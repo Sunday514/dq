{
 "cells": [
  {
   "cell_type": "code",
   "execution_count": 59,
   "metadata": {
    "collapsed": false
   },
   "outputs": [],
   "source": [
    "import pandas as pd\n",
    "import matplotlib.pyplot as plt\n",
    "%matplotlib inline\n",
    "from sklearn.model_selection import train_test_split\n",
    "from sklearn.linear_model import LinearRegression\n",
    "from sklearn.metrics import mean_squared_error\n",
    "from sklearn.tree import DecisionTreeRegressor\n",
    "from sklearn.ensemble import RandomForestRegressor"
   ]
  },
  {
   "cell_type": "code",
   "execution_count": 6,
   "metadata": {
    "collapsed": true
   },
   "outputs": [],
   "source": [
    "bike_rentals = pd.read_csv(\"bike_rental_hour.csv\")"
   ]
  },
  {
   "cell_type": "code",
   "execution_count": 7,
   "metadata": {
    "collapsed": false
   },
   "outputs": [
    {
     "data": {
      "image/png": "[encoded data removed]",
      "text/plain": [
       "<matplotlib.figure.Figure at 0x7f9e8af80278>"
      ]
     },
     "metadata": {},
     "output_type": "display_data"
    }
   ],
   "source": [
    "bike_rentals[\"cnt\"].hist()\n",
    "plt.show()"
   ]
  },
  {
   "cell_type": "code",
   "execution_count": 9,
   "metadata": {
    "collapsed": false
   },
   "outputs": [
    {
     "name": "stdout",
     "output_type": "stream",
     "text": [
      "instant       0.278379\n",
      "season        0.178056\n",
      "yr            0.250495\n",
      "mnth          0.120638\n",
      "hr            0.394071\n",
      "holiday      -0.030927\n",
      "weekday       0.026900\n",
      "workingday    0.030284\n",
      "weathersit   -0.142426\n",
      "temp          0.404772\n",
      "atemp         0.400929\n",
      "hum          -0.322911\n",
      "windspeed     0.093234\n",
      "casual        0.694564\n",
      "registered    0.972151\n",
      "cnt           1.000000\n",
      "Name: cnt, dtype: float64\n"
     ]
    }
   ],
   "source": [
    "corr = bike_rentals.corr()[\"cnt\"]\n",
    "print(corr)"
   ]
  },
  {
   "cell_type": "code",
   "execution_count": 10,
   "metadata": {
    "collapsed": true
   },
   "outputs": [],
   "source": [
    "def assign_label(hour):\n",
    "    if hour in range(6,13):\n",
    "        return 1\n",
    "    if hour in range(12,19):\n",
    "        return 2\n",
    "    if hour in range(18,25):\n",
    "        return 3\n",
    "    if hour in range(0,7):\n",
    "        return 4\n",
    "\n",
    "bike_rentals[\"time_label\"] = bike_rentals[\"hr\"].apply(assign_label)"
   ]
  },
  {
   "cell_type": "code",
   "execution_count": 13,
   "metadata": {
    "collapsed": true
   },
   "outputs": [],
   "source": [
    "train, test = train_test_split(bike_rentals, test_size=0.2)"
   ]
  },
  {
   "cell_type": "code",
   "execution_count": 23,
   "metadata": {
    "collapsed": false
   },
   "outputs": [],
   "source": [
    "columns = bike_rentals.columns.drop([\"cnt\", \"casual\", \"dteday\", \"registered\", \"instant\"])"
   ]
  },
  {
   "cell_type": "markdown",
   "metadata": {},
   "source": [
    "# Linear Regression"
   ]
  },
  {
   "cell_type": "code",
   "execution_count": 27,
   "metadata": {
    "collapsed": false
   },
   "outputs": [
    {
     "name": "stdout",
     "output_type": "stream",
     "text": [
      "130.467962665\n",
      "126.434336387\n"
     ]
    }
   ],
   "source": [
    "model = LinearRegression()\n",
    "model.fit(train[columns], train[\"cnt\"])\n",
    "lin_train_pred = model.predict(train[columns])\n",
    "lin_train_rmse = mean_squared_error(train[\"cnt\"], lin_train_pred)**0.5\n",
    "lin_test_pred = model.predict(test[columns])\n",
    "lin_test_rmse = mean_squared_error(test[\"cnt\"], lin_test_pred)**0.5\n",
    "print(lin_train_rmse)\n",
    "print(lin_test_rmse)"
   ]
  },
  {
   "cell_type": "markdown",
   "metadata": {},
   "source": [
    "The rmse in both train and test sets are very high. The linear regression model underfits the data."
   ]
  },
  {
   "cell_type": "markdown",
   "metadata": {},
   "source": [
    "# Decision tree"
   ]
  },
  {
   "cell_type": "code",
   "execution_count": 58,
   "metadata": {
    "collapsed": false
   },
   "outputs": [
    {
     "name": "stdout",
     "output_type": "stream",
     "text": [
      "26.9945482325\n",
      "53.4057955841\n"
     ]
    }
   ],
   "source": [
    "model2 = DecisionTreeRegressor(min_samples_leaf=3)\n",
    "model2.fit(train[columns], train[\"cnt\"])\n",
    "tree_train_pred = model2.predict(train[columns])\n",
    "tree_train_rmse = mean_squared_error(train[\"cnt\"], tree_train_pred)**0.5\n",
    "tree_test_pred = model2.predict(test[columns])\n",
    "tree_test_rmse = mean_squared_error(test[\"cnt\"], tree_test_pred)**0.5\n",
    "print(tree_train_rmse)\n",
    "print(tree_test_rmse)"
   ]
  },
  {
   "cell_type": "markdown",
   "metadata": {},
   "source": [
    "The error between the predictions and the actual values is much smaller than linear regression. But the error of test set is always remarkably smaller than that of train set, which indicates overfitting exists in this model. By tuning the parameters, we can observe the changes in the errors of train and test set, and choose the best parameters with lowest error in test set."
   ]
  },
  {
   "cell_type": "markdown",
   "metadata": {},
   "source": [
    "# Random Forrest"
   ]
  },
  {
   "cell_type": "code",
   "execution_count": 68,
   "metadata": {
    "collapsed": false
   },
   "outputs": [
    {
     "name": "stdout",
     "output_type": "stream",
     "text": [
      "23.0241469884\n",
      "42.6226553548\n"
     ]
    }
   ],
   "source": [
    "model3 = RandomForestRegressor(n_estimators=100, min_samples_leaf=2)\n",
    "model3.fit(train[columns], train[\"cnt\"])\n",
    "forr_train_pred = model3.predict(train[columns])\n",
    "forr_train_rmse = mean_squared_error(train[\"cnt\"], forr_train_pred)**0.5\n",
    "forr_test_pred = model3.predict(test[columns])\n",
    "forr_test_rmse = mean_squared_error(test[\"cnt\"], forr_test_pred)**0.5\n",
    "print(forr_train_rmse)\n",
    "print(forr_test_rmse)"
   ]
  },
  {
   "cell_type": "markdown",
   "metadata": {},
   "source": [
    "Random forrest performs a little better than a single decision tree. It has less overfitting than decision tree with the same parameter."
   ]
  },
  {
   "cell_type": "code",
   "execution_count": null,
   "metadata": {
    "collapsed": true
   },
   "outputs": [],
   "source": []
  }
 ],
 "metadata": {
  "anaconda-cloud": {},
  "kernelspec": {
   "display_name": "Python [default]",
   "language": "python",
   "name": "python3"
  },
  "language_info": {
   "codemirror_mode": {
    "name": "ipython",
    "version": 3
   },
   "file_extension": ".py",
   "mimetype": "text/x-python",
   "name": "python",
   "nbconvert_exporter": "python",
   "pygments_lexer": "ipython3",
   "version": "3.5.2"
  }
 },
 "nbformat": 4,
 "nbformat_minor": 0
}
