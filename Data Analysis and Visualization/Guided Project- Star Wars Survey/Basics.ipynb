{
 "cells": [
  {
   "cell_type": "code",
   "execution_count": 31,
   "metadata": {
    "collapsed": true
   },
   "outputs": [],
   "source": [
    "import pandas as pd\n",
    "import numpy as np\n",
    "import matplotlib.pyplot as plt\n",
    "%matplotlib inline"
   ]
  },
  {
   "cell_type": "code",
   "execution_count": 2,
   "metadata": {
    "collapsed": false
   },
   "outputs": [
    {
     "name": "stdout",
     "output_type": "stream",
     "text": [
      "   RespondentID Have you seen any of the 6 films in the Star Wars franchise?  \\\n",
      "0           NaN                                           Response             \n",
      "1  3.292880e+09                                                Yes             \n",
      "2  3.292880e+09                                                 No             \n",
      "3  3.292765e+09                                                Yes             \n",
      "4  3.292763e+09                                                Yes             \n",
      "5  3.292731e+09                                                Yes             \n",
      "6  3.292719e+09                                                Yes             \n",
      "7  3.292685e+09                                                Yes             \n",
      "8  3.292664e+09                                                Yes             \n",
      "9  3.292654e+09                                                Yes             \n",
      "\n",
      "  Do you consider yourself to be a fan of the Star Wars film franchise?  \\\n",
      "0                                           Response                      \n",
      "1                                                Yes                      \n",
      "2                                                NaN                      \n",
      "3                                                 No                      \n",
      "4                                                Yes                      \n",
      "5                                                Yes                      \n",
      "6                                                Yes                      \n",
      "7                                                Yes                      \n",
      "8                                                Yes                      \n",
      "9                                                Yes                      \n",
      "\n",
      "  Which of the following Star Wars films have you seen? Please select all that apply.  \\\n",
      "0           Star Wars: Episode I  The Phantom Menace                                    \n",
      "1           Star Wars: Episode I  The Phantom Menace                                    \n",
      "2                                                NaN                                    \n",
      "3           Star Wars: Episode I  The Phantom Menace                                    \n",
      "4           Star Wars: Episode I  The Phantom Menace                                    \n",
      "5           Star Wars: Episode I  The Phantom Menace                                    \n",
      "6           Star Wars: Episode I  The Phantom Menace                                    \n",
      "7           Star Wars: Episode I  The Phantom Menace                                    \n",
      "8           Star Wars: Episode I  The Phantom Menace                                    \n",
      "9           Star Wars: Episode I  The Phantom Menace                                    \n",
      "\n",
      "                                    Unnamed: 4  \\\n",
      "0  Star Wars: Episode II  Attack of the Clones   \n",
      "1  Star Wars: Episode II  Attack of the Clones   \n",
      "2                                          NaN   \n",
      "3  Star Wars: Episode II  Attack of the Clones   \n",
      "4  Star Wars: Episode II  Attack of the Clones   \n",
      "5  Star Wars: Episode II  Attack of the Clones   \n",
      "6  Star Wars: Episode II  Attack of the Clones   \n",
      "7  Star Wars: Episode II  Attack of the Clones   \n",
      "8  Star Wars: Episode II  Attack of the Clones   \n",
      "9  Star Wars: Episode II  Attack of the Clones   \n",
      "\n",
      "                                    Unnamed: 5  \\\n",
      "0  Star Wars: Episode III  Revenge of the Sith   \n",
      "1  Star Wars: Episode III  Revenge of the Sith   \n",
      "2                                          NaN   \n",
      "3  Star Wars: Episode III  Revenge of the Sith   \n",
      "4  Star Wars: Episode III  Revenge of the Sith   \n",
      "5  Star Wars: Episode III  Revenge of the Sith   \n",
      "6  Star Wars: Episode III  Revenge of the Sith   \n",
      "7  Star Wars: Episode III  Revenge of the Sith   \n",
      "8  Star Wars: Episode III  Revenge of the Sith   \n",
      "9  Star Wars: Episode III  Revenge of the Sith   \n",
      "\n",
      "                          Unnamed: 6  \\\n",
      "0  Star Wars: Episode IV  A New Hope   \n",
      "1  Star Wars: Episode IV  A New Hope   \n",
      "2                                NaN   \n",
      "3                                NaN   \n",
      "4  Star Wars: Episode IV  A New Hope   \n",
      "5  Star Wars: Episode IV  A New Hope   \n",
      "6  Star Wars: Episode IV  A New Hope   \n",
      "7  Star Wars: Episode IV  A New Hope   \n",
      "8  Star Wars: Episode IV  A New Hope   \n",
      "9  Star Wars: Episode IV  A New Hope   \n",
      "\n",
      "                                     Unnamed: 7  \\\n",
      "0  Star Wars: Episode V The Empire Strikes Back   \n",
      "1  Star Wars: Episode V The Empire Strikes Back   \n",
      "2                                           NaN   \n",
      "3                                           NaN   \n",
      "4  Star Wars: Episode V The Empire Strikes Back   \n",
      "5  Star Wars: Episode V The Empire Strikes Back   \n",
      "6  Star Wars: Episode V The Empire Strikes Back   \n",
      "7  Star Wars: Episode V The Empire Strikes Back   \n",
      "8  Star Wars: Episode V The Empire Strikes Back   \n",
      "9  Star Wars: Episode V The Empire Strikes Back   \n",
      "\n",
      "                                 Unnamed: 8  \\\n",
      "0  Star Wars: Episode VI Return of the Jedi   \n",
      "1  Star Wars: Episode VI Return of the Jedi   \n",
      "2                                       NaN   \n",
      "3                                       NaN   \n",
      "4  Star Wars: Episode VI Return of the Jedi   \n",
      "5  Star Wars: Episode VI Return of the Jedi   \n",
      "6  Star Wars: Episode VI Return of the Jedi   \n",
      "7  Star Wars: Episode VI Return of the Jedi   \n",
      "8  Star Wars: Episode VI Return of the Jedi   \n",
      "9  Star Wars: Episode VI Return of the Jedi   \n",
      "\n",
      "  Please rank the Star Wars films in order of preference with 1 being your favorite film in the franchise and 6 being your least favorite film.  \\\n",
      "0           Star Wars: Episode I  The Phantom Menace                                                                                              \n",
      "1                                                  3                                                                                              \n",
      "2                                                NaN                                                                                              \n",
      "3                                                  1                                                                                              \n",
      "4                                                  5                                                                                              \n",
      "5                                                  5                                                                                              \n",
      "6                                                  1                                                                                              \n",
      "7                                                  6                                                                                              \n",
      "8                                                  4                                                                                              \n",
      "9                                                  5                                                                                              \n",
      "\n",
      "            ...                    Unnamed: 28  \\\n",
      "0           ...                           Yoda   \n",
      "1           ...                 Very favorably   \n",
      "2           ...                            NaN   \n",
      "3           ...               Unfamiliar (N/A)   \n",
      "4           ...                 Very favorably   \n",
      "5           ...             Somewhat favorably   \n",
      "6           ...                 Very favorably   \n",
      "7           ...                 Very favorably   \n",
      "8           ...                 Very favorably   \n",
      "9           ...             Somewhat favorably   \n",
      "\n",
      "        Which character shot first?  \\\n",
      "0                          Response   \n",
      "1  I don't understand this question   \n",
      "2                               NaN   \n",
      "3  I don't understand this question   \n",
      "4  I don't understand this question   \n",
      "5                            Greedo   \n",
      "6                               Han   \n",
      "7                               Han   \n",
      "8                               Han   \n",
      "9                               Han   \n",
      "\n",
      "  Are you familiar with the Expanded Universe?  \\\n",
      "0                                     Response   \n",
      "1                                          Yes   \n",
      "2                                          NaN   \n",
      "3                                           No   \n",
      "4                                           No   \n",
      "5                                          Yes   \n",
      "6                                          Yes   \n",
      "7                                          Yes   \n",
      "8                                           No   \n",
      "9                                           No   \n",
      "\n",
      "  Do you consider yourself to be a fan of the Expanded Universe?ÂÃ¦  \\\n",
      "0                                           Response                   \n",
      "1                                                 No                   \n",
      "2                                                NaN                   \n",
      "3                                                NaN                   \n",
      "4                                                NaN                   \n",
      "5                                                 No                   \n",
      "6                                                 No                   \n",
      "7                                                 No                   \n",
      "8                                                NaN                   \n",
      "9                                                NaN                   \n",
      "\n",
      "  Do you consider yourself to be a fan of the Star Trek franchise?    Gender  \\\n",
      "0                                           Response                Response   \n",
      "1                                                 No                    Male   \n",
      "2                                                Yes                    Male   \n",
      "3                                                 No                    Male   \n",
      "4                                                Yes                    Male   \n",
      "5                                                 No                    Male   \n",
      "6                                                Yes                    Male   \n",
      "7                                                 No                    Male   \n",
      "8                                                Yes                    Male   \n",
      "9                                                 No                    Male   \n",
      "\n",
      "        Age     Household Income                         Education  \\\n",
      "0  Response             Response                          Response   \n",
      "1     18-29                  NaN                High school degree   \n",
      "2     18-29         $0 - $24,999                   Bachelor degree   \n",
      "3     18-29         $0 - $24,999                High school degree   \n",
      "4     18-29  $100,000 - $149,999  Some college or Associate degree   \n",
      "5     18-29  $100,000 - $149,999  Some college or Associate degree   \n",
      "6     18-29    $25,000 - $49,999                   Bachelor degree   \n",
      "7     18-29                  NaN                High school degree   \n",
      "8     18-29                  NaN                High school degree   \n",
      "9     18-29         $0 - $24,999  Some college or Associate degree   \n",
      "\n",
      "  Location (Census Region)  \n",
      "0                 Response  \n",
      "1           South Atlantic  \n",
      "2       West South Central  \n",
      "3       West North Central  \n",
      "4       West North Central  \n",
      "5       West North Central  \n",
      "6          Middle Atlantic  \n",
      "7       East North Central  \n",
      "8           South Atlantic  \n",
      "9           South Atlantic  \n",
      "\n",
      "[10 rows x 38 columns]\n"
     ]
    }
   ],
   "source": [
    "star_wars = pd.read_csv(\"star_wars.csv\", encoding=\"ISO-8859-1\")\n",
    "print(star_wars.head(10))"
   ]
  },
  {
   "cell_type": "code",
   "execution_count": 3,
   "metadata": {
    "collapsed": false,
    "scrolled": true
   },
   "outputs": [
    {
     "name": "stdout",
     "output_type": "stream",
     "text": [
      "Index(['RespondentID',\n",
      "       'Have you seen any of the 6 films in the Star Wars franchise?',\n",
      "       'Do you consider yourself to be a fan of the Star Wars film franchise?',\n",
      "       'Which of the following Star Wars films have you seen? Please select all that apply.',\n",
      "       'Unnamed: 4', 'Unnamed: 5', 'Unnamed: 6', 'Unnamed: 7', 'Unnamed: 8',\n",
      "       'Please rank the Star Wars films in order of preference with 1 being your favorite film in the franchise and 6 being your least favorite film.',\n",
      "       'Unnamed: 10', 'Unnamed: 11', 'Unnamed: 12', 'Unnamed: 13',\n",
      "       'Unnamed: 14',\n",
      "       'Please state whether you view the following characters favorably, unfavorably, or are unfamiliar with him/her.',\n",
      "       'Unnamed: 16', 'Unnamed: 17', 'Unnamed: 18', 'Unnamed: 19',\n",
      "       'Unnamed: 20', 'Unnamed: 21', 'Unnamed: 22', 'Unnamed: 23',\n",
      "       'Unnamed: 24', 'Unnamed: 25', 'Unnamed: 26', 'Unnamed: 27',\n",
      "       'Unnamed: 28', 'Which character shot first?',\n",
      "       'Are you familiar with the Expanded Universe?',\n",
      "       'Do you consider yourself to be a fan of the Expanded Universe?ÂÃ¦',\n",
      "       'Do you consider yourself to be a fan of the Star Trek franchise?',\n",
      "       'Gender', 'Age', 'Household Income', 'Education',\n",
      "       'Location (Census Region)'],\n",
      "      dtype='object')\n"
     ]
    }
   ],
   "source": [
    "print(star_wars.columns)"
   ]
  },
  {
   "cell_type": "code",
   "execution_count": 5,
   "metadata": {
    "collapsed": false
   },
   "outputs": [],
   "source": [
    "star_wars = star_wars[pd.notnull(star_wars[\"RespondentID\"])]"
   ]
  },
  {
   "cell_type": "code",
   "execution_count": 8,
   "metadata": {
    "collapsed": false
   },
   "outputs": [],
   "source": [
    "y_n = {\n",
    "    \"Yes\": True,\n",
    "    \"No\": False\n",
    "}\n",
    "star_wars[\"Have you seen any of the 6 films in the Star Wars franchise?\"] = star_wars[\"Have you seen any of the 6 films in the Star Wars franchise?\"].map(y_n)\n",
    "star_wars[\"Do you consider yourself to be a fan of the Star Wars film franchise?\"] = star_wars[\"Do you consider yourself to be a fan of the Star Wars film franchise?\"].map(y_n)"
   ]
  },
  {
   "cell_type": "code",
   "execution_count": 9,
   "metadata": {
    "collapsed": false
   },
   "outputs": [
    {
     "name": "stdout",
     "output_type": "stream",
     "text": [
      "    RespondentID Have you seen any of the 6 films in the Star Wars franchise?  \\\n",
      "1   3.292880e+09                                               True             \n",
      "2   3.292880e+09                                              False             \n",
      "3   3.292765e+09                                               True             \n",
      "4   3.292763e+09                                               True             \n",
      "5   3.292731e+09                                               True             \n",
      "6   3.292719e+09                                               True             \n",
      "7   3.292685e+09                                               True             \n",
      "8   3.292664e+09                                               True             \n",
      "9   3.292654e+09                                               True             \n",
      "10  3.292640e+09                                               True             \n",
      "\n",
      "   Do you consider yourself to be a fan of the Star Wars film franchise?  \\\n",
      "1                                                True                      \n",
      "2                                                 NaN                      \n",
      "3                                               False                      \n",
      "4                                                True                      \n",
      "5                                                True                      \n",
      "6                                                True                      \n",
      "7                                                True                      \n",
      "8                                                True                      \n",
      "9                                                True                      \n",
      "10                                              False                      \n",
      "\n",
      "   Which of the following Star Wars films have you seen? Please select all that apply.  \\\n",
      "1            Star Wars: Episode I  The Phantom Menace                                    \n",
      "2                                                 NaN                                    \n",
      "3            Star Wars: Episode I  The Phantom Menace                                    \n",
      "4            Star Wars: Episode I  The Phantom Menace                                    \n",
      "5            Star Wars: Episode I  The Phantom Menace                                    \n",
      "6            Star Wars: Episode I  The Phantom Menace                                    \n",
      "7            Star Wars: Episode I  The Phantom Menace                                    \n",
      "8            Star Wars: Episode I  The Phantom Menace                                    \n",
      "9            Star Wars: Episode I  The Phantom Menace                                    \n",
      "10                                                NaN                                    \n",
      "\n",
      "                                     Unnamed: 4  \\\n",
      "1   Star Wars: Episode II  Attack of the Clones   \n",
      "2                                           NaN   \n",
      "3   Star Wars: Episode II  Attack of the Clones   \n",
      "4   Star Wars: Episode II  Attack of the Clones   \n",
      "5   Star Wars: Episode II  Attack of the Clones   \n",
      "6   Star Wars: Episode II  Attack of the Clones   \n",
      "7   Star Wars: Episode II  Attack of the Clones   \n",
      "8   Star Wars: Episode II  Attack of the Clones   \n",
      "9   Star Wars: Episode II  Attack of the Clones   \n",
      "10  Star Wars: Episode II  Attack of the Clones   \n",
      "\n",
      "                                     Unnamed: 5  \\\n",
      "1   Star Wars: Episode III  Revenge of the Sith   \n",
      "2                                           NaN   \n",
      "3   Star Wars: Episode III  Revenge of the Sith   \n",
      "4   Star Wars: Episode III  Revenge of the Sith   \n",
      "5   Star Wars: Episode III  Revenge of the Sith   \n",
      "6   Star Wars: Episode III  Revenge of the Sith   \n",
      "7   Star Wars: Episode III  Revenge of the Sith   \n",
      "8   Star Wars: Episode III  Revenge of the Sith   \n",
      "9   Star Wars: Episode III  Revenge of the Sith   \n",
      "10                                          NaN   \n",
      "\n",
      "                           Unnamed: 6  \\\n",
      "1   Star Wars: Episode IV  A New Hope   \n",
      "2                                 NaN   \n",
      "3                                 NaN   \n",
      "4   Star Wars: Episode IV  A New Hope   \n",
      "5   Star Wars: Episode IV  A New Hope   \n",
      "6   Star Wars: Episode IV  A New Hope   \n",
      "7   Star Wars: Episode IV  A New Hope   \n",
      "8   Star Wars: Episode IV  A New Hope   \n",
      "9   Star Wars: Episode IV  A New Hope   \n",
      "10                                NaN   \n",
      "\n",
      "                                      Unnamed: 7  \\\n",
      "1   Star Wars: Episode V The Empire Strikes Back   \n",
      "2                                            NaN   \n",
      "3                                            NaN   \n",
      "4   Star Wars: Episode V The Empire Strikes Back   \n",
      "5   Star Wars: Episode V The Empire Strikes Back   \n",
      "6   Star Wars: Episode V The Empire Strikes Back   \n",
      "7   Star Wars: Episode V The Empire Strikes Back   \n",
      "8   Star Wars: Episode V The Empire Strikes Back   \n",
      "9   Star Wars: Episode V The Empire Strikes Back   \n",
      "10                                           NaN   \n",
      "\n",
      "                                  Unnamed: 8  \\\n",
      "1   Star Wars: Episode VI Return of the Jedi   \n",
      "2                                        NaN   \n",
      "3                                        NaN   \n",
      "4   Star Wars: Episode VI Return of the Jedi   \n",
      "5   Star Wars: Episode VI Return of the Jedi   \n",
      "6   Star Wars: Episode VI Return of the Jedi   \n",
      "7   Star Wars: Episode VI Return of the Jedi   \n",
      "8   Star Wars: Episode VI Return of the Jedi   \n",
      "9   Star Wars: Episode VI Return of the Jedi   \n",
      "10                                       NaN   \n",
      "\n",
      "   Please rank the Star Wars films in order of preference with 1 being your favorite film in the franchise and 6 being your least favorite film.  \\\n",
      "1                                                   3                                                                                              \n",
      "2                                                 NaN                                                                                              \n",
      "3                                                   1                                                                                              \n",
      "4                                                   5                                                                                              \n",
      "5                                                   5                                                                                              \n",
      "6                                                   1                                                                                              \n",
      "7                                                   6                                                                                              \n",
      "8                                                   4                                                                                              \n",
      "9                                                   5                                                                                              \n",
      "10                                                  1                                                                                              \n",
      "\n",
      "             ...                    Unnamed: 28  \\\n",
      "1            ...                 Very favorably   \n",
      "2            ...                            NaN   \n",
      "3            ...               Unfamiliar (N/A)   \n",
      "4            ...                 Very favorably   \n",
      "5            ...             Somewhat favorably   \n",
      "6            ...                 Very favorably   \n",
      "7            ...                 Very favorably   \n",
      "8            ...                 Very favorably   \n",
      "9            ...             Somewhat favorably   \n",
      "10           ...                 Very favorably   \n",
      "\n",
      "         Which character shot first?  \\\n",
      "1   I don't understand this question   \n",
      "2                                NaN   \n",
      "3   I don't understand this question   \n",
      "4   I don't understand this question   \n",
      "5                             Greedo   \n",
      "6                                Han   \n",
      "7                                Han   \n",
      "8                                Han   \n",
      "9                                Han   \n",
      "10  I don't understand this question   \n",
      "\n",
      "   Are you familiar with the Expanded Universe?  \\\n",
      "1                                           Yes   \n",
      "2                                           NaN   \n",
      "3                                            No   \n",
      "4                                            No   \n",
      "5                                           Yes   \n",
      "6                                           Yes   \n",
      "7                                           Yes   \n",
      "8                                            No   \n",
      "9                                            No   \n",
      "10                                           No   \n",
      "\n",
      "   Do you consider yourself to be a fan of the Expanded Universe?ÂÃ¦  \\\n",
      "1                                                  No                   \n",
      "2                                                 NaN                   \n",
      "3                                                 NaN                   \n",
      "4                                                 NaN                   \n",
      "5                                                  No                   \n",
      "6                                                  No                   \n",
      "7                                                  No                   \n",
      "8                                                 NaN                   \n",
      "9                                                 NaN                   \n",
      "10                                                NaN                   \n",
      "\n",
      "   Do you consider yourself to be a fan of the Star Trek franchise? Gender  \\\n",
      "1                                                  No                 Male   \n",
      "2                                                 Yes                 Male   \n",
      "3                                                  No                 Male   \n",
      "4                                                 Yes                 Male   \n",
      "5                                                  No                 Male   \n",
      "6                                                 Yes                 Male   \n",
      "7                                                  No                 Male   \n",
      "8                                                 Yes                 Male   \n",
      "9                                                  No                 Male   \n",
      "10                                                 No                 Male   \n",
      "\n",
      "      Age     Household Income                         Education  \\\n",
      "1   18-29                  NaN                High school degree   \n",
      "2   18-29         $0 - $24,999                   Bachelor degree   \n",
      "3   18-29         $0 - $24,999                High school degree   \n",
      "4   18-29  $100,000 - $149,999  Some college or Associate degree   \n",
      "5   18-29  $100,000 - $149,999  Some college or Associate degree   \n",
      "6   18-29    $25,000 - $49,999                   Bachelor degree   \n",
      "7   18-29                  NaN                High school degree   \n",
      "8   18-29                  NaN                High school degree   \n",
      "9   18-29         $0 - $24,999  Some college or Associate degree   \n",
      "10  18-29    $25,000 - $49,999  Some college or Associate degree   \n",
      "\n",
      "   Location (Census Region)  \n",
      "1            South Atlantic  \n",
      "2        West South Central  \n",
      "3        West North Central  \n",
      "4        West North Central  \n",
      "5        West North Central  \n",
      "6           Middle Atlantic  \n",
      "7        East North Central  \n",
      "8            South Atlantic  \n",
      "9            South Atlantic  \n",
      "10                  Pacific  \n",
      "\n",
      "[10 rows x 38 columns]\n"
     ]
    }
   ],
   "source": [
    "print(star_wars.head(10))"
   ]
  },
  {
   "cell_type": "code",
   "execution_count": 24,
   "metadata": {
    "collapsed": false
   },
   "outputs": [],
   "source": [
    "seen = {\n",
    "    \"Star Wars: Episode I  The Phantom Menace\": True,\n",
    "    \"Star Wars: Episode II  Attack of the Clones\": True,\n",
    "    \"Star Wars: Episode III  Revenge of the Sith\": True,\n",
    "    \"Star Wars: Episode IV  A New Hope\": True,\n",
    "    \"Star Wars: Episode V The Empire Strikes Back\": True,\n",
    "    \"Star Wars: Episode VI Return of the Jedi\": True,\n",
    "    np.nan: False\n",
    "}\n",
    "for col in star_wars.columns[3:9]:\n",
    "    star_wars[col] = star_wars[col].map(seen)"
   ]
  },
  {
   "cell_type": "code",
   "execution_count": 27,
   "metadata": {
    "collapsed": false
   },
   "outputs": [],
   "source": [
    "star_wars = star_wars.rename(columns={\n",
    "    \"Which of the following Star Wars films have you seen? Please select all that apply.\": \"seen_1\",\n",
    "    \"Unnamed: 4\": \"seen_2\",\n",
    "    \"Unnamed: 5\": \"seen_3\",\n",
    "    \"Unnamed: 6\": \"seen_4\",\n",
    "    \"Unnamed: 7\": \"seen_5\",\n",
    "    \"Unnamed: 8\": \"seen_6\"\n",
    "})"
   ]
  },
  {
   "cell_type": "code",
   "execution_count": 30,
   "metadata": {
    "collapsed": false
   },
   "outputs": [],
   "source": [
    "star_wars[star_wars.columns[9:15]] = star_wars[star_wars.columns[9:15]].astype(float)\n",
    "star_wars = star_wars.rename(columns={\n",
    "    'Please rank the Star Wars films in order of preference with 1 being your favorite film in the franchise and 6 being your least favorite film.': \"rank_1\",\n",
    "    \"Unnamed: 10\": \"rank_2\",\n",
    "    \"Unnamed: 11\": \"rank_3\",\n",
    "    \"Unnamed: 12\": \"rank_4\",\n",
    "    \"Unnamed: 13\": \"rank_5\",\n",
    "    \"Unnamed: 14\": \"rank_6\"\n",
    "})"
   ]
  },
  {
   "cell_type": "code",
   "execution_count": 36,
   "metadata": {
    "collapsed": false
   },
   "outputs": [
    {
     "data": {
      "image/png": "[encoded data removed]",
      "text/plain": [
       "<matplotlib.figure.Figure at 0x7f87b1509c50>"
      ]
     },
     "metadata": {},
     "output_type": "display_data"
    }
   ],
   "source": [
    "ave_rank = star_wars[star_wars.columns[9:15]].mean()\n",
    "rk_left = np.arange(6)+0.75\n",
    "rk_xpos = np.arange(6)+1\n",
    "rk_height = ave_rank.values.tolist()\n",
    "rk_label = star_wars.columns[9:15].tolist()\n",
    "fig, ax = plt.subplots()\n",
    "ax.bar(rk_left, rk_height, width = 0.5)\n",
    "ax.set_xlabel(\"movie\")\n",
    "ax.set_ylabel(\"ranking\")\n",
    "ax.set_xticks(rk_xpos)\n",
    "ax.set_xticklabels(rk_label)\n",
    "ax.set_title(\"ranking of movies\")\n",
    "plt.show()"
   ]
  },
  {
   "cell_type": "markdown",
   "metadata": {},
   "source": [
    "The Empire Strikes Back has the best ranking. The earlier the movie is, the better people tend to rank it."
   ]
  },
  {
   "cell_type": "code",
   "execution_count": 40,
   "metadata": {
    "collapsed": false
   },
   "outputs": [
    {
     "data": {
      "image/png": "[encoded data removed]",
      "text/plain": [
       "<matplotlib.figure.Figure at 0x7f87b13e06a0>"
      ]
     },
     "metadata": {},
     "output_type": "display_data"
    }
   ],
   "source": [
    "sum_seen = star_wars[star_wars.columns[3:9]].sum()\n",
    "sm_left = np.arange(6)+0.75\n",
    "sm_xpos = np.arange(6)+1\n",
    "sm_height = sum_seen.values.tolist()\n",
    "sm_label = star_wars.columns[3:9].tolist()\n",
    "fig, ax = plt.subplots()\n",
    "ax.bar(sm_left, sm_height, width = 0.5)\n",
    "ax.set_xlabel(\"movie\")\n",
    "ax.set_ylabel(\"number\")\n",
    "ax.set_xticks(sm_xpos)\n",
    "ax.set_xticklabels(sm_label)\n",
    "ax.set_title(\"how many people have seen of movies\")\n",
    "plt.show()"
   ]
  },
  {
   "cell_type": "markdown",
   "metadata": {},
   "source": [
    "The number of viewers seems to decrease over time since The Empire Strikes Back.\n",
    "The more number of viewers, the better the movie is ranked.\n",
    "People would only rank the movie they have seen. If one has only seen a few movie, these movie will have lower rank number."
   ]
  },
  {
   "cell_type": "code",
   "execution_count": 46,
   "metadata": {
    "collapsed": false
   },
   "outputs": [
    {
     "data": {
      "image/png": "[encoded data removed]",
      "text/plain": [
       "<matplotlib.figure.Figure at 0x7f87b1374cc0>"
      ]
     },
     "metadata": {},
     "output_type": "display_data"
    }
   ],
   "source": [
    "males = star_wars[star_wars[\"Gender\"] == \"Male\"]\n",
    "females = star_wars[star_wars[\"Gender\"] == \"Female\"]\n",
    "ave_rank_m = males[star_wars.columns[9:15]].mean()\n",
    "ave_rank_f = females[star_wars.columns[9:15]].mean()\n",
    "rk_left_m = np.arange(6)+0.25\n",
    "rk_left_f = np.arange(6)+0.75\n",
    "rk_xpos = np.arange(6)+0.7\n",
    "rk_height_m = ave_rank_m.values.tolist()\n",
    "rk_height_f = ave_rank_f.values.tolist()\n",
    "rk_label = star_wars.columns[9:15].tolist()\n",
    "fig, ax = plt.subplots()\n",
    "ax.bar(rk_left_m, rk_height_m, width = 0.4, color=\"blue\")\n",
    "ax.bar(rk_left_f, rk_height_f, width = 0.4, color=\"red\")\n",
    "ax.set_xlabel(\"movie\")\n",
    "ax.set_ylabel(\"ranking\")\n",
    "ax.set_xticks(rk_xpos)\n",
    "ax.set_xticklabels(rk_label)\n",
    "ax.set_title(\"ranking of movies\")\n",
    "plt.show()"
   ]
  },
  {
   "cell_type": "code",
   "execution_count": 48,
   "metadata": {
    "collapsed": false
   },
   "outputs": [
    {
     "data": {
      "image/png": "[encoded data removed]",
      "text/plain": [
       "<matplotlib.figure.Figure at 0x7f87b14adb00>"
      ]
     },
     "metadata": {},
     "output_type": "display_data"
    }
   ],
   "source": [
    "sum_seen_m = males[star_wars.columns[3:9]].sum()\n",
    "sum_seen_f = females[star_wars.columns[3:9]].sum()\n",
    "sm_left_m = np.arange(6)+0.25\n",
    "sm_left_f = np.arange(6)+0.75\n",
    "sm_xpos = np.arange(6)+0.7\n",
    "sm_height_m = sum_seen_m.values.tolist()\n",
    "sm_height_f = sum_seen_f.values.tolist()\n",
    "sm_label = star_wars.columns[3:9].tolist()\n",
    "fig, ax = plt.subplots()\n",
    "ax.bar(sm_left_m, sm_height_m, width = 0.4, color=\"blue\")\n",
    "ax.bar(sm_left_f, sm_height_f, width = 0.4, color=\"red\")\n",
    "ax.set_xlabel(\"movie\")\n",
    "ax.set_ylabel(\"number\")\n",
    "ax.set_xticks(sm_xpos)\n",
    "ax.set_xticklabels(sm_label)\n",
    "ax.set_title(\"how many people have seen of movies\")\n",
    "plt.show()"
   ]
  },
  {
   "cell_type": "markdown",
   "metadata": {},
   "source": [
    "More men than women have seen the movies of Star Wars.\n",
    "The ranking from men and women are similar, except women prefer episode 3 to episode 1."
   ]
  },
  {
   "cell_type": "code",
   "execution_count": null,
   "metadata": {
    "collapsed": true
   },
   "outputs": [],
   "source": []
  }
 ],
 "metadata": {
  "kernelspec": {
   "display_name": "Python 3",
   "language": "python",
   "name": "python3"
  },
  "language_info": {
   "codemirror_mode": {
    "name": "ipython",
    "version": 3
   },
   "file_extension": ".py",
   "mimetype": "text/x-python",
   "name": "python",
   "nbconvert_exporter": "python",
   "pygments_lexer": "ipython3",
   "version": "3.4.3"
  }
 },
 "nbformat": 4,
 "nbformat_minor": 0
}
